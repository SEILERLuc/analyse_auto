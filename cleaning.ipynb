{
 "cells": [
  {
   "cell_type": "markdown",
   "metadata": {},
   "source": [
    "# Projet spécialité Data-IA"
   ]
  },
  {
   "cell_type": "markdown",
   "metadata": {},
   "source": [
    "# Analyse de données : l'industrie automobile et les changements climatiques"
   ]
  },
  {
   "cell_type": "code",
   "execution_count": 1,
   "metadata": {},
   "outputs": [
    {
     "name": "stdout",
     "output_type": "stream",
     "text": [
      "hello\n"
     ]
    }
   ],
   "source": [
    "print(\"hello\")"
   ]
  },
  {
   "cell_type": "markdown",
   "metadata": {},
   "source": [
    "Scrapper les données mondiales des ventes/émissions de CO2 des véhicules terrestre motorisés dans le monde, puis par continent, puis par pays de l'Europe, et pour une personne"
   ]
  },
  {
   "cell_type": "markdown",
   "metadata": {},
   "source": [
    "# Scrapping des données mondiales"
   ]
  },
  {
   "cell_type": "code",
   "execution_count": 2,
   "metadata": {},
   "outputs": [],
   "source": [
    "import requests # requêter sur le site\n",
    "from bs4 import BeautifulSoup # parcourir le HTML\n",
    "import pandas as pd # formatter les données/exporter en CSV"
   ]
  },
  {
   "cell_type": "markdown",
   "metadata": {},
   "source": [
    "## Les ventes de véhicules, par années/pays/continent de 1999 à 2022"
   ]
  },
  {
   "cell_type": "markdown",
   "metadata": {},
   "source": [
    "Nous avons trouvé le site de OICA. Une rubrique répertorie la production de véhicules motorisés dans le monde depuis 1999.\n",
    "\n",
    "L'idée est donc de scraper ces données, dans la catégorie <b>production-statistics/{ANNÉE}-statistics</b>\n",
    "\n",
    "Nous travaillerons depuis 2015"
   ]
  },
  {
   "cell_type": "code",
   "execution_count": 41,
   "metadata": {},
   "outputs": [
    {
     "name": "stdout",
     "output_type": "stream",
     "text": [
      "2024\n",
      "Accès au site https://www.oica.net/category/production-statistics/2015-statistics, status = 200\n",
      "Date de début 2015; Date de fin : 2024\n",
      "Argentina\n",
      "Australia\n",
      "Austria\n",
      "Belgium\n",
      "Brazil\n",
      "Canada\n",
      "China\n",
      "Czech Rep.\n",
      "Egypt\n",
      "Finland\n",
      "France\n",
      "Germany\n",
      "Hungary\n",
      "India\n",
      "Indonesia\n",
      "Iran\n",
      "Italy\n",
      "Japan\n",
      "Malaysia\n",
      "Mexico\n",
      "Netherlands\n",
      "Poland\n",
      "Portugal\n",
      "Romania\n",
      "Russia\n",
      "Serbia\n",
      "Slovakia\n",
      "Slovenia\n",
      "South Africa\n",
      "South Korea\n",
      "Spain\n",
      "Sweden\n",
      "Taiwan\n",
      "Thailand\n",
      "Turkey\n",
      "Ukraine\n",
      "UK\n",
      "USA\n",
      "Uzbekistan\n",
      "Others\n",
      "Total\n"
     ]
    }
   ],
   "source": [
    "# CTRL + '/' pour commenter plusieurs lignes à la fois\n",
    "\n",
    "import datetime\n",
    "\n",
    "def get_current_year() -> int: \n",
    "    \"\"\" \n",
    "    for automatisation of the dataset. In 2025, \n",
    "    the program will research for the 2025's web page\n",
    "    \"\"\"\n",
    "    today = datetime.date.today()\n",
    "    year = today.year\n",
    "    print(year)\n",
    "\n",
    "    return year\n",
    "\n",
    "def scrape_page(soup: BeautifulSoup, world_production_list: list):\n",
    "    table = soup.find(\"tbody\")\n",
    "    countries = table.find_all(\"tr\")\n",
    "\n",
    "    # print(countries)\n",
    "\n",
    "    for country_tr in countries:\n",
    "        country_name = country_tr.find(\"td\", {\"class\": f\"column-1\"}).text\n",
    "        #print(country_tr)\n",
    "        print(country_name)\n",
    "\n",
    "    # for quote_div in quotes:\n",
    "    #     quote = quote_div.find(\"span\", {\"class\": \"text\"}).text\n",
    "    #     author = quote_div.find(\"small\", {'class': 'author'}).text\n",
    "    #     tags = quote_div.find_all(\"a\", {'class': 'tag'})\n",
    "        \n",
    "    #     dict = {\n",
    "    #         'quote': '',\n",
    "    #         'author': '',\n",
    "    #         'tags': '',\n",
    "    #     }\n",
    "\n",
    "    #     dict['quote'] = quote[1:-1]\n",
    "    #     dict['author'] = author\n",
    "    #     tag_list = []\n",
    "    #     for tag in tags:\n",
    "    #         tag_list.append(tag.text)\n",
    "    #     dict['tags'] = tag_list            \n",
    "\n",
    "    #     quote_list.append(dict)\n",
    "\n",
    "    # next = soup.find(\"li\", class_='next') # deuxième manière de faire un class=\n",
    "    # if next != None:\n",
    "    #     print('Accès à la page suivante')\n",
    "    #     next_url = next.find(\"a\").get('href')\n",
    "    #     req = requests.get(target +  next_url)\n",
    "    #     next_soup = BeautifulSoup(req.text, \"html.parser\")\n",
    "    #     scrape_page(next_soup, quote_list)\n",
    "    # print('Aucune autre page')\n",
    "\n",
    "begin_year = 2015\n",
    "end_year = get_current_year()\n",
    "\n",
    "target = f'https://www.oica.net/category/production-statistics/{begin_year}-statistics'\n",
    "# https://www.oica.net/category/production-statistics/2015-statistics/\n",
    "req = requests.get(target)\n",
    "\n",
    "if req.status_code != 200:\n",
    "    print(\"Erreur\")\n",
    "    exit(0)\n",
    "else:\n",
    "    print(f\"Accès au site {target}, status = {req.status_code}\")\n",
    "\n",
    "soup = BeautifulSoup(req.text, \"html.parser\")\n",
    "\n",
    "if __name__ == \"__main__\":\n",
    "    print(f\"Date de début {begin_year}; Date de fin : {end_year}\")\n",
    "\n",
    "    world_production_list = []\n",
    "    # print(world_production_list)\n",
    "    scrape_page(soup, world_production_list)\n",
    "    # print(f\"Final list of quotes {quote_list}\")\n",
    "    # df = pd.DataFrame(quote_list)\n",
    "    # df.insert(0, 'ID', range(1, len(quote_list) +1))\n",
    "    # df.to_csv('quote_list.csv', index=False, sep=';')\n"
   ]
  }
 ],
 "metadata": {
  "kernelspec": {
   "display_name": "Python 3",
   "language": "python",
   "name": "python3"
  },
  "language_info": {
   "codemirror_mode": {
    "name": "ipython",
    "version": 3
   },
   "file_extension": ".py",
   "mimetype": "text/x-python",
   "name": "python",
   "nbconvert_exporter": "python",
   "pygments_lexer": "ipython3",
   "version": "3.10.4"
  }
 },
 "nbformat": 4,
 "nbformat_minor": 2
}
